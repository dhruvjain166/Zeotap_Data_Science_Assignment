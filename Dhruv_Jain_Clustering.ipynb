{
 "cells": [
  {
   "cell_type": "code",
   "execution_count": 1,
   "id": "5fbd422e-5943-43fd-bcc7-cff429546633",
   "metadata": {},
   "outputs": [],
   "source": [
    "import pandas as pd\n",
    "import numpy as np\n",
    "import matplotlib.pyplot as plt\n",
    "import seaborn as sns\n",
    "from sklearn.preprocessing import StandardScaler\n",
    "from sklearn.cluster import KMeans\n",
    "from sklearn.metrics import davies_bouldin_score\n",
    "from sklearn.decomposition import PCA\n"
   ]
  },
  {
   "cell_type": "code",
   "execution_count": 2,
   "id": "b19c88e7-51d9-4063-b595-0a36fceef417",
   "metadata": {},
   "outputs": [
    {
     "data": {
      "text/plain": [
       "(  CustomerID        CustomerName         Region  SignupDate\n",
       " 0      C0001    Lawrence Carroll  South America  2022-07-10\n",
       " 1      C0002      Elizabeth Lutz           Asia  2022-02-13\n",
       " 2      C0003      Michael Rivera  South America  2024-03-07\n",
       " 3      C0004  Kathleen Rodriguez  South America  2022-10-09\n",
       " 4      C0005         Laura Weber           Asia  2022-08-15,\n",
       "   TransactionID CustomerID ProductID      TransactionDate  Quantity  \\\n",
       " 0        T00001      C0199      P067  2024-08-25 12:38:23         1   \n",
       " 1        T00112      C0146      P067  2024-05-27 22:23:54         1   \n",
       " 2        T00166      C0127      P067  2024-04-25 07:38:55         1   \n",
       " 3        T00272      C0087      P067  2024-03-26 22:55:37         2   \n",
       " 4        T00363      C0070      P067  2024-03-21 15:10:10         3   \n",
       " \n",
       "    TotalValue   Price  \n",
       " 0      300.68  300.68  \n",
       " 1      300.68  300.68  \n",
       " 2      300.68  300.68  \n",
       " 3      601.36  300.68  \n",
       " 4      902.04  300.68  )"
      ]
     },
     "execution_count": 2,
     "metadata": {},
     "output_type": "execute_result"
    }
   ],
   "source": [
    "# Load customer and transaction data\n",
    "customers_df = pd.read_csv('C:/Users/91790/Downloads/Customers.csv')\n",
    "transactions_df = pd.read_csv('C:/Users/91790/Downloads/Transactions.csv')\n",
    "\n",
    "customers_df.head(), transactions_df.head()\n"
   ]
  },
  {
   "cell_type": "code",
   "execution_count": 3,
   "id": "2b168449-30ac-4f1f-bd74-f3f896dd3bbe",
   "metadata": {},
   "outputs": [
    {
     "data": {
      "text/html": [
       "<div>\n",
       "<style scoped>\n",
       "    .dataframe tbody tr th:only-of-type {\n",
       "        vertical-align: middle;\n",
       "    }\n",
       "\n",
       "    .dataframe tbody tr th {\n",
       "        vertical-align: top;\n",
       "    }\n",
       "\n",
       "    .dataframe thead th {\n",
       "        text-align: right;\n",
       "    }\n",
       "</style>\n",
       "<table border=\"1\" class=\"dataframe\">\n",
       "  <thead>\n",
       "    <tr style=\"text-align: right;\">\n",
       "      <th></th>\n",
       "      <th>CustomerID</th>\n",
       "      <th>CustomerName</th>\n",
       "      <th>Region</th>\n",
       "      <th>SignupDate</th>\n",
       "      <th>TransactionID</th>\n",
       "      <th>ProductID</th>\n",
       "      <th>TransactionDate</th>\n",
       "      <th>Quantity</th>\n",
       "      <th>TotalValue</th>\n",
       "      <th>Price</th>\n",
       "    </tr>\n",
       "  </thead>\n",
       "  <tbody>\n",
       "    <tr>\n",
       "      <th>0</th>\n",
       "      <td>C0001</td>\n",
       "      <td>Lawrence Carroll</td>\n",
       "      <td>South America</td>\n",
       "      <td>2022-07-10</td>\n",
       "      <td>T00015</td>\n",
       "      <td>P054</td>\n",
       "      <td>2024-01-19 03:12:55</td>\n",
       "      <td>2</td>\n",
       "      <td>114.60</td>\n",
       "      <td>57.30</td>\n",
       "    </tr>\n",
       "    <tr>\n",
       "      <th>1</th>\n",
       "      <td>C0001</td>\n",
       "      <td>Lawrence Carroll</td>\n",
       "      <td>South America</td>\n",
       "      <td>2022-07-10</td>\n",
       "      <td>T00932</td>\n",
       "      <td>P022</td>\n",
       "      <td>2024-09-17 09:01:18</td>\n",
       "      <td>3</td>\n",
       "      <td>412.62</td>\n",
       "      <td>137.54</td>\n",
       "    </tr>\n",
       "    <tr>\n",
       "      <th>2</th>\n",
       "      <td>C0001</td>\n",
       "      <td>Lawrence Carroll</td>\n",
       "      <td>South America</td>\n",
       "      <td>2022-07-10</td>\n",
       "      <td>T00085</td>\n",
       "      <td>P096</td>\n",
       "      <td>2024-04-08 00:01:00</td>\n",
       "      <td>2</td>\n",
       "      <td>614.94</td>\n",
       "      <td>307.47</td>\n",
       "    </tr>\n",
       "    <tr>\n",
       "      <th>3</th>\n",
       "      <td>C0001</td>\n",
       "      <td>Lawrence Carroll</td>\n",
       "      <td>South America</td>\n",
       "      <td>2022-07-10</td>\n",
       "      <td>T00445</td>\n",
       "      <td>P083</td>\n",
       "      <td>2024-05-07 03:11:44</td>\n",
       "      <td>2</td>\n",
       "      <td>911.44</td>\n",
       "      <td>455.72</td>\n",
       "    </tr>\n",
       "    <tr>\n",
       "      <th>4</th>\n",
       "      <td>C0001</td>\n",
       "      <td>Lawrence Carroll</td>\n",
       "      <td>South America</td>\n",
       "      <td>2022-07-10</td>\n",
       "      <td>T00436</td>\n",
       "      <td>P029</td>\n",
       "      <td>2024-11-02 17:04:16</td>\n",
       "      <td>3</td>\n",
       "      <td>1300.92</td>\n",
       "      <td>433.64</td>\n",
       "    </tr>\n",
       "  </tbody>\n",
       "</table>\n",
       "</div>"
      ],
      "text/plain": [
       "  CustomerID      CustomerName         Region  SignupDate TransactionID  \\\n",
       "0      C0001  Lawrence Carroll  South America  2022-07-10        T00015   \n",
       "1      C0001  Lawrence Carroll  South America  2022-07-10        T00932   \n",
       "2      C0001  Lawrence Carroll  South America  2022-07-10        T00085   \n",
       "3      C0001  Lawrence Carroll  South America  2022-07-10        T00445   \n",
       "4      C0001  Lawrence Carroll  South America  2022-07-10        T00436   \n",
       "\n",
       "  ProductID      TransactionDate  Quantity  TotalValue   Price  \n",
       "0      P054  2024-01-19 03:12:55         2      114.60   57.30  \n",
       "1      P022  2024-09-17 09:01:18         3      412.62  137.54  \n",
       "2      P096  2024-04-08 00:01:00         2      614.94  307.47  \n",
       "3      P083  2024-05-07 03:11:44         2      911.44  455.72  \n",
       "4      P029  2024-11-02 17:04:16         3     1300.92  433.64  "
      ]
     },
     "execution_count": 3,
     "metadata": {},
     "output_type": "execute_result"
    }
   ],
   "source": [
    "# Merging both dataframes on 'CustomerID'\n",
    "merged_df = pd.merge(customers_df, transactions_df, on='CustomerID')\n",
    "\n",
    "merged_df.head()\n"
   ]
  },
  {
   "cell_type": "code",
   "execution_count": 5,
   "id": "d1a38282-75de-418a-bdf9-19512c152d87",
   "metadata": {},
   "outputs": [
    {
     "name": "stdout",
     "output_type": "stream",
     "text": [
      "Customer Data Columns: Index(['CustomerID', 'CustomerName', 'Region', 'SignupDate'], dtype='object')\n",
      "Transaction Data Columns: Index(['TransactionID', 'CustomerID', 'ProductID', 'TransactionDate',\n",
      "       'Quantity', 'TotalValue', 'Price'],\n",
      "      dtype='object')\n"
     ]
    }
   ],
   "source": [
    "print(\"Customer Data Columns:\", customers_df.columns)\n",
    "print(\"Transaction Data Columns:\", transactions_df.columns)\n"
   ]
  },
  {
   "cell_type": "code",
   "execution_count": 9,
   "id": "6bf568a8-483c-4c8f-b711-a5ee2ef70da5",
   "metadata": {},
   "outputs": [
    {
     "data": {
      "text/plain": [
       "array([[-0.25882038],\n",
       "       [-0.69698254],\n",
       "       [ 0.73057805],\n",
       "       [-0.9796678 ],\n",
       "       [-0.2870889 ]])"
      ]
     },
     "execution_count": 9,
     "metadata": {},
     "output_type": "execute_result"
    }
   ],
   "source": [
    "# Convert 'last_purchase_date' to days since last purchase\n",
    "final_features['last_purchase_date'] = pd.to_datetime(final_features['last_purchase_date'])\n",
    "current_date = pd.to_datetime('today')\n",
    "final_features['days_since_last_purchase'] = (current_date - final_features['last_purchase_date']).dt.days\n",
    "final_features.drop(columns=['last_purchase_date'], inplace=True)\n",
    "\n",
    "# Select only the numeric columns for scaling\n",
    "numeric_features = final_features.select_dtypes(include=[np.number])\n",
    "\n",
    "scaler = StandardScaler()\n",
    "scaled_features = scaler.fit_transform(numeric_features)\n",
    "\n",
    "scaled_features[:5]\n"
   ]
  },
  {
   "cell_type": "code",
   "execution_count": 14,
   "id": "1ff4858e-28b1-46d0-8fe3-93a531fdb495",
   "metadata": {},
   "outputs": [
    {
     "data": {
      "image/png": "[encoded data removed]",
      "text/plain": [
       "<Figure size 800x600 with 1 Axes>"
      ]
     },
     "metadata": {},
     "output_type": "display_data"
    },
    {
     "name": "stdout",
     "output_type": "stream",
     "text": [
      "Optimal number of clusters: 7\n"
     ]
    }
   ],
   "source": [
    "db_indexes = []\n",
    "\n",
    "for n_clusters in range(2, 11):\n",
    "    kmeans = KMeans(n_clusters=n_clusters, random_state=42)\n",
    "    kmeans.fit(scaled_features)\n",
    "    \n",
    "    db_index = davies_bouldin_score(scaled_features, kmeans.labels_)\n",
    "    db_indexes.append(db_index)\n",
    "\n",
    "plt.figure(figsize=(8, 6))\n",
    "plt.plot(range(2, 11), db_indexes, marker='o', linestyle='-', color='b')\n",
    "plt.title('Davies-Bouldin Index for different numbers of clusters')\n",
    "plt.xlabel('Number of Clusters')\n",
    "plt.ylabel('DB Index')\n",
    "plt.show()\n",
    "\n",
    "optimal_clusters = np.argmin(db_indexes) + 2\n",
    "print(f\"Optimal number of clusters: {optimal_clusters}\")\n"
   ]
  },
  {
   "cell_type": "code",
   "execution_count": 12,
   "id": "343d3c12-583f-4597-9c65-0269dbe85701",
   "metadata": {},
   "outputs": [
    {
     "name": "stdout",
     "output_type": "stream",
     "text": [
      "Scaled Features Shape: (199, 1)\n",
      "Not enough features for PCA. Please check the feature engineering steps.\n"
     ]
    }
   ],
   "source": [
    "# Check the shape of the scaled_features\n",
    "print(\"Scaled Features Shape:\", scaled_features.shape)\n",
    "\n",
    "if scaled_features.shape[1] < 2:\n",
    "    print(\"Not enough features for PCA. Please check the feature engineering steps.\")\n",
    "else:\n",
    "    kmeans = KMeans(n_clusters=optimal_clusters, random_state=42)\n",
    "    labels = kmeans.fit_predict(scaled_features)\n",
    "\n",
    "    final_features['Cluster'] = labels\n",
    "\n",
    "    pca = PCA(n_components=2)\n",
    "    pca_features = pca.fit_transform(scaled_features)\n",
    "\n",
    "    # Plot the clusters\n",
    "    plt.figure(figsize=(8, 6))\n",
    "    sns.scatterplot(x=pca_features[:, 0], y=pca_features[:, 1], hue=final_features['Cluster'], palette='Set1', s=100, alpha=0.7)\n",
    "    plt.title(f'Customer Segments (K={optimal_clusters})')\n",
    "    plt.xlabel('PCA Component 1')\n",
    "    plt.ylabel('PCA Component 2')\n",
    "    plt.legend(title='Cluster', loc='best')\n",
    "    plt.show()\n"
   ]
  },
  {
   "cell_type": "code",
   "execution_count": 15,
   "id": "fa3722f9-7f27-4064-b558-7604b2c32a1e",
   "metadata": {},
   "outputs": [
    {
     "name": "stdout",
     "output_type": "stream",
     "text": [
      "Cluster centers:\n",
      "[[-0.72053964]\n",
      " [ 0.71066159]\n",
      " [ 3.7941796 ]\n",
      " [-0.01702352]\n",
      " [ 2.97321448]\n",
      " [ 2.13693724]\n",
      " [ 0.29622127]\n",
      " [ 1.20548929]\n",
      " [-0.34781389]\n",
      " [-0.94942705]]\n",
      "Cluster counts:\n",
      "Cluster\n",
      "0    73\n",
      "3    42\n",
      "5    40\n",
      "1    31\n",
      "4     6\n",
      "2     4\n",
      "6     3\n",
      "Name: count, dtype: int64\n"
     ]
    }
   ],
   "source": [
    "cluster_centers = kmeans.cluster_centers_\n",
    "print(f\"Cluster centers:\\n{cluster_centers}\")\n",
    "cluster_counts = final_features['Cluster'].value_counts()\n",
    "print(f\"Cluster counts:\\n{cluster_counts}\")\n"
   ]
  },
  {
   "cell_type": "code",
   "execution_count": null,
   "id": "b6c1c048-2361-4edb-84df-642bce10385c",
   "metadata": {},
   "outputs": [],
   "source": []
  }
 ],
 "metadata": {
  "kernelspec": {
   "display_name": "Python 3 (ipykernel)",
   "language": "python",
   "name": "python3"
  },
  "language_info": {
   "codemirror_mode": {
    "name": "ipython",
    "version": 3
   },
   "file_extension": ".py",
   "mimetype": "text/x-python",
   "name": "python",
   "nbconvert_exporter": "python",
   "pygments_lexer": "ipython3",
   "version": "3.13.0"
  }
 },
 "nbformat": 4,
 "nbformat_minor": 5
}
