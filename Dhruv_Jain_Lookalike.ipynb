{
 "cells": [
  {
   "cell_type": "code",
   "execution_count": 40,
   "id": "eeb830cd-1dab-44be-85b0-dac5c4d21e8e",
   "metadata": {},
   "outputs": [
    {
     "name": "stdout",
     "output_type": "stream",
     "text": [
      "  CustomerID        CustomerName         Region  SignupDate\n",
      "0      C0001    Lawrence Carroll  South America  2022-07-10\n",
      "1      C0002      Elizabeth Lutz           Asia  2022-02-13\n",
      "2      C0003      Michael Rivera  South America  2024-03-07\n",
      "3      C0004  Kathleen Rodriguez  South America  2022-10-09\n",
      "4      C0005         Laura Weber           Asia  2022-08-15\n",
      "  TransactionID CustomerID ProductID      TransactionDate  Quantity  \\\n",
      "0        T00001      C0199      P067  2024-08-25 12:38:23         1   \n",
      "1        T00112      C0146      P067  2024-05-27 22:23:54         1   \n",
      "2        T00166      C0127      P067  2024-04-25 07:38:55         1   \n",
      "3        T00272      C0087      P067  2024-03-26 22:55:37         2   \n",
      "4        T00363      C0070      P067  2024-03-21 15:10:10         3   \n",
      "\n",
      "   TotalValue   Price  \n",
      "0      300.68  300.68  \n",
      "1      300.68  300.68  \n",
      "2      300.68  300.68  \n",
      "3      601.36  300.68  \n",
      "4      902.04  300.68  \n"
     ]
    }
   ],
   "source": [
    "# Step 1: Load the datasets\n",
    "\n",
    "# Update with the correct path\n",
    "file_path = r'C:\\Users\\91790\\Downloads'\n",
    "\n",
    "# Load the datasets using the file path\n",
    "customers = pd.read_csv(file_path + r'\\Customers.csv')\n",
    "transactions = pd.read_csv(file_path + r'\\Transactions.csv')\n",
    "\n",
    "# Check the first few rows of data to ensure they are loaded correctly\n",
    "print(customers.head())\n",
    "print(transactions.head())\n"
   ]
  },
  {
   "cell_type": "code",
   "execution_count": 23,
   "id": "0916ca3c-eb75-4d3c-82d8-90143063f0fc",
   "metadata": {},
   "outputs": [],
   "source": [
    "# Merge customers and transactions on 'CustomerID'\n",
    "merged_data = transactions.merge(customers, on='CustomerID', how='inner')\n",
    "merged_data = merged_data.merge(products, on='ProductID', how='inner')\n"
   ]
  },
  {
   "cell_type": "code",
   "execution_count": 34,
   "id": "0aa1f507-86e9-4841-aef8-6819756d54a6",
   "metadata": {},
   "outputs": [],
   "source": [
    "customer_features = merged_data.groupby('CustomerID').agg(\n",
    "    total_purchase_value=pd.NamedAgg(column='TotalValue', aggfunc='sum'),\n",
    "    transaction_count=pd.NamedAgg(column='TransactionID', aggfunc='count')\n",
    ")\n",
    "\n",
    "# Add features related to product category preferences\n",
    "category_purchase = merged_data.groupby(['CustomerID', 'Category']).agg(\n",
    "    category_value=pd.NamedAgg(column='TotalValue', aggfunc='sum')\n",
    ").unstack(fill_value=0)\n",
    "\n",
    "# Flatten multi-level column names from the 'unstack' operation\n",
    "category_purchase.columns = [f'Category_{col}' for col in category_purchase.columns]\n",
    "\n",
    "# Combine all features into a single DataFrame\n",
    "customer_features = pd.concat([customer_features, category_purchase], axis=1)\n"
   ]
  },
  {
   "cell_type": "code",
   "execution_count": 33,
   "id": "a807381e-c3a6-476f-b226-784889b1086c",
   "metadata": {},
   "outputs": [
    {
     "name": "stdout",
     "output_type": "stream",
     "text": [
      "Requirement already satisfied: scikit-learn in c:\\users\\91790\\appdata\\local\\programs\\python\\python313\\lib\\site-packages (1.6.1)\n",
      "Requirement already satisfied: numpy>=1.19.5 in c:\\users\\91790\\appdata\\local\\programs\\python\\python313\\lib\\site-packages (from scikit-learn) (2.1.3)\n",
      "Requirement already satisfied: scipy>=1.6.0 in c:\\users\\91790\\appdata\\local\\programs\\python\\python313\\lib\\site-packages (from scikit-learn) (1.15.1)\n",
      "Requirement already satisfied: joblib>=1.2.0 in c:\\users\\91790\\appdata\\local\\programs\\python\\python313\\lib\\site-packages (from scikit-learn) (1.4.2)\n",
      "Requirement already satisfied: threadpoolctl>=3.1.0 in c:\\users\\91790\\appdata\\local\\programs\\python\\python313\\lib\\site-packages (from scikit-learn) (3.5.0)\n",
      "Note: you may need to restart the kernel to use updated packages.\n"
     ]
    },
    {
     "name": "stderr",
     "output_type": "stream",
     "text": [
      "\n",
      "[notice] A new release of pip is available: 24.2 -> 25.0\n",
      "[notice] To update, run: python.exe -m pip install --upgrade pip\n"
     ]
    }
   ],
   "source": [
    "pip install scikit-learn"
   ]
  },
  {
   "cell_type": "code",
   "execution_count": 30,
   "id": "9eee739b-a6bf-48a4-a159-a04452608786",
   "metadata": {},
   "outputs": [],
   "source": [
    "# Standardizing the features\n",
    "from sklearn.preprocessing import StandardScaler\n",
    "\n",
    "scaler = StandardScaler()\n",
    "scaled_features = scaler.fit_transform(customer_features)\n"
   ]
  },
  {
   "cell_type": "code",
   "execution_count": 35,
   "id": "8d28db45-e702-4ce6-b77b-f341481ea7ca",
   "metadata": {},
   "outputs": [],
   "source": [
    "# Compute cosine similarity between customers\n",
    "similarity_matrix = cosine_similarity(scaled_features)\n"
   ]
  },
  {
   "cell_type": "code",
   "execution_count": 38,
   "id": "27103b51-a9fd-4a16-9977-7adc415c3f3c",
   "metadata": {
    "scrolled": true
   },
   "outputs": [
    {
     "name": "stdout",
     "output_type": "stream",
     "text": [
      "Lookalike model saved successfully!\n"
     ]
    }
   ],
   "source": [
    "lookalike_df = pd.DataFrame.from_dict(lookalike_model, orient='index')\n",
    "\n",
    "# Flatten the DataFrame to have CustomerID1, SimilarityScore1, CustomerID2, SimilarityScore2, CustomerID3, SimilarityScore3 columns\n",
    "lookalike_df_flat = pd.DataFrame([\n",
    "    (customer, *lookalike_model[customer][0], *lookalike_model[customer][1], *lookalike_model[customer][2])\n",
    "    for customer in lookalike_model\n",
    "], columns=['CustomerID', 'CustomerID1', 'SimilarityScore1', 'CustomerID2', 'SimilarityScore2', 'CustomerID3', 'SimilarityScore3'])\n",
    "\n",
    "# Save the results to a CSV file\n",
    "lookalike_df_flat.to_csv('Lookalike.csv', index=False)\n",
    "\n",
    "print(\"Lookalike model saved successfully!\")"
   ]
  },
  {
   "cell_type": "code",
   "execution_count": null,
   "id": "0ebcff10-5a3d-4ad5-a50d-a67dd39485ed",
   "metadata": {},
   "outputs": [],
   "source": []
  }
 ],
 "metadata": {
  "kernelspec": {
   "display_name": "Python 3 (ipykernel)",
   "language": "python",
   "name": "python3"
  },
  "language_info": {
   "codemirror_mode": {
    "name": "ipython",
    "version": 3
   },
   "file_extension": ".py",
   "mimetype": "text/x-python",
   "name": "python",
   "nbconvert_exporter": "python",
   "pygments_lexer": "ipython3",
   "version": "3.13.0"
  }
 },
 "nbformat": 4,
 "nbformat_minor": 5
}
